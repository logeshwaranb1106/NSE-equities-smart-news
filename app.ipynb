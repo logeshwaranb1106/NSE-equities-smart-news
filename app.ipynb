{
 "cells": [
  {
   "cell_type": "code",
   "execution_count": 1,
   "id": "f2f0d976",
   "metadata": {},
   "outputs": [],
   "source": [
    "import pandas as pd\n",
    "df=pd.read_csv(r'/home/logeshwaran/Downloads/equity.csv')"
   ]
  },
  {
   "cell_type": "code",
   "execution_count": 9,
   "id": "1c88a9d4",
   "metadata": {},
   "outputs": [],
   "source": [
    "newsymbol=df['NAME OF COMPANY']+' ('+df['SYMBOL']+')'"
   ]
  },
  {
   "cell_type": "code",
   "execution_count": 12,
   "id": "09346072",
   "metadata": {},
   "outputs": [],
   "source": [
    "df.to_csv('newsymbol.csv',index=False)"
   ]
  },
  {
   "cell_type": "code",
   "execution_count": 16,
   "id": "c7ca9c20",
   "metadata": {},
   "outputs": [
    {
     "name": "stdout",
     "output_type": "stream",
     "text": [
      "<class 'pandas.core.series.Series'>\n",
      "RangeIndex: 2140 entries, 0 to 2139\n",
      "Series name: None\n",
      "Non-Null Count  Dtype \n",
      "--------------  ----- \n",
      "2140 non-null   object\n",
      "dtypes: object(1)\n",
      "memory usage: 16.8+ KB\n"
     ]
    }
   ],
   "source": [
    "newsymbol.info()"
   ]
  },
  {
   "cell_type": "code",
   "execution_count": 18,
   "id": "198dd738",
   "metadata": {},
   "outputs": [],
   "source": [
    "newsymbol.to_csv('newsymbol.csv',index=False)"
   ]
  }
 ],
 "metadata": {
  "kernelspec": {
   "display_name": "myenv",
   "language": "python",
   "name": "python3"
  },
  "language_info": {
   "codemirror_mode": {
    "name": "ipython",
    "version": 3
   },
   "file_extension": ".py",
   "mimetype": "text/x-python",
   "name": "python",
   "nbconvert_exporter": "python",
   "pygments_lexer": "ipython3",
   "version": "3.13.3"
  }
 },
 "nbformat": 4,
 "nbformat_minor": 5
}
